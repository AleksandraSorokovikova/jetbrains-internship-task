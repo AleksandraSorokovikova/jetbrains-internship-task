{
 "cells": [
  {
   "cell_type": "code",
   "execution_count": 1,
   "metadata": {},
   "outputs": [],
   "source": [
    "import pandas as pd\n",
    "import numpy as np\n",
    "from tqdm import tqdm"
   ]
  },
  {
   "cell_type": "code",
   "execution_count": 2,
   "metadata": {},
   "outputs": [],
   "source": [
    "data = pd.read_csv('data/dataset.csv')\n",
    "data = data.sort_values(['timestamp'])"
   ]
  },
  {
   "cell_type": "code",
   "execution_count": 3,
   "metadata": {},
   "outputs": [],
   "source": [
    "train = data[:80000]\n",
    "test = data[80000:]"
   ]
  },
  {
   "cell_type": "code",
   "execution_count": 4,
   "metadata": {},
   "outputs": [
    {
     "data": {
      "text/html": [
       "<div>\n",
       "<style scoped>\n",
       "    .dataframe tbody tr th:only-of-type {\n",
       "        vertical-align: middle;\n",
       "    }\n",
       "\n",
       "    .dataframe tbody tr th {\n",
       "        vertical-align: top;\n",
       "    }\n",
       "\n",
       "    .dataframe thead th {\n",
       "        text-align: right;\n",
       "    }\n",
       "</style>\n",
       "<table border=\"1\" class=\"dataframe\">\n",
       "  <thead>\n",
       "    <tr style=\"text-align: right;\">\n",
       "      <th></th>\n",
       "      <th>user_id</th>\n",
       "      <th>item_id</th>\n",
       "      <th>rating</th>\n",
       "      <th>timestamp</th>\n",
       "    </tr>\n",
       "  </thead>\n",
       "  <tbody>\n",
       "    <tr>\n",
       "      <th>217</th>\n",
       "      <td>259</td>\n",
       "      <td>255</td>\n",
       "      <td>4</td>\n",
       "      <td>874724710</td>\n",
       "    </tr>\n",
       "    <tr>\n",
       "      <th>83968</th>\n",
       "      <td>259</td>\n",
       "      <td>286</td>\n",
       "      <td>4</td>\n",
       "      <td>874724727</td>\n",
       "    </tr>\n",
       "    <tr>\n",
       "      <th>43030</th>\n",
       "      <td>259</td>\n",
       "      <td>298</td>\n",
       "      <td>4</td>\n",
       "      <td>874724754</td>\n",
       "    </tr>\n",
       "    <tr>\n",
       "      <th>21399</th>\n",
       "      <td>259</td>\n",
       "      <td>185</td>\n",
       "      <td>4</td>\n",
       "      <td>874724781</td>\n",
       "    </tr>\n",
       "    <tr>\n",
       "      <th>82658</th>\n",
       "      <td>259</td>\n",
       "      <td>173</td>\n",
       "      <td>4</td>\n",
       "      <td>874724843</td>\n",
       "    </tr>\n",
       "  </tbody>\n",
       "</table>\n",
       "</div>"
      ],
      "text/plain": [
       "       user_id  item_id  rating  timestamp\n",
       "217        259      255       4  874724710\n",
       "83968      259      286       4  874724727\n",
       "43030      259      298       4  874724754\n",
       "21399      259      185       4  874724781\n",
       "82658      259      173       4  874724843"
      ]
     },
     "execution_count": 4,
     "metadata": {},
     "output_type": "execute_result"
    }
   ],
   "source": [
    "train.head()"
   ]
  },
  {
   "cell_type": "code",
   "execution_count": 5,
   "metadata": {},
   "outputs": [
    {
     "data": {
      "text/html": [
       "<div>\n",
       "<style scoped>\n",
       "    .dataframe tbody tr th:only-of-type {\n",
       "        vertical-align: middle;\n",
       "    }\n",
       "\n",
       "    .dataframe tbody tr th {\n",
       "        vertical-align: top;\n",
       "    }\n",
       "\n",
       "    .dataframe thead th {\n",
       "        text-align: right;\n",
       "    }\n",
       "</style>\n",
       "<table border=\"1\" class=\"dataframe\">\n",
       "  <thead>\n",
       "    <tr style=\"text-align: right;\">\n",
       "      <th></th>\n",
       "      <th>user_id</th>\n",
       "      <th>item_id</th>\n",
       "      <th>rating</th>\n",
       "      <th>timestamp</th>\n",
       "    </tr>\n",
       "  </thead>\n",
       "  <tbody>\n",
       "    <tr>\n",
       "      <th>1346</th>\n",
       "      <td>3</td>\n",
       "      <td>245</td>\n",
       "      <td>1</td>\n",
       "      <td>889237247</td>\n",
       "    </tr>\n",
       "    <tr>\n",
       "      <th>27978</th>\n",
       "      <td>3</td>\n",
       "      <td>355</td>\n",
       "      <td>3</td>\n",
       "      <td>889237247</td>\n",
       "    </tr>\n",
       "    <tr>\n",
       "      <th>1260</th>\n",
       "      <td>3</td>\n",
       "      <td>335</td>\n",
       "      <td>1</td>\n",
       "      <td>889237269</td>\n",
       "    </tr>\n",
       "    <tr>\n",
       "      <th>38673</th>\n",
       "      <td>3</td>\n",
       "      <td>322</td>\n",
       "      <td>3</td>\n",
       "      <td>889237269</td>\n",
       "    </tr>\n",
       "    <tr>\n",
       "      <th>3761</th>\n",
       "      <td>3</td>\n",
       "      <td>323</td>\n",
       "      <td>2</td>\n",
       "      <td>889237269</td>\n",
       "    </tr>\n",
       "  </tbody>\n",
       "</table>\n",
       "</div>"
      ],
      "text/plain": [
       "       user_id  item_id  rating  timestamp\n",
       "1346         3      245       1  889237247\n",
       "27978        3      355       3  889237247\n",
       "1260         3      335       1  889237269\n",
       "38673        3      322       3  889237269\n",
       "3761         3      323       2  889237269"
      ]
     },
     "execution_count": 5,
     "metadata": {},
     "output_type": "execute_result"
    }
   ],
   "source": [
    "test.head()"
   ]
  },
  {
   "cell_type": "code",
   "execution_count": 6,
   "metadata": {},
   "outputs": [],
   "source": [
    "# Задача: Обучить модель так, чтобы мера была больше 0.1"
   ]
  },
  {
   "cell_type": "markdown",
   "metadata": {},
   "source": [
    "### Обработка данных\n",
    "Сначала необходимо составить матрицу **user-item**, где индексами являются идентификаторы пользователей, а колонками - идентификаторы продукта. Нам нужна также валидационная выборка, чтобы на ней мы подобрали оптимальные гиперпараметры (размер валидационной выборки будет составлять 20% от тренировочной)."
   ]
  },
  {
   "cell_type": "code",
   "execution_count": 7,
   "metadata": {},
   "outputs": [],
   "source": [
    "validation = train[:16000]\n",
    "train1 = train[16000:]"
   ]
  },
  {
   "cell_type": "code",
   "execution_count": 8,
   "metadata": {},
   "outputs": [
    {
     "data": {
      "text/html": [
       "<div>\n",
       "<style scoped>\n",
       "    .dataframe tbody tr th:only-of-type {\n",
       "        vertical-align: middle;\n",
       "    }\n",
       "\n",
       "    .dataframe tbody tr th {\n",
       "        vertical-align: top;\n",
       "    }\n",
       "\n",
       "    .dataframe thead th {\n",
       "        text-align: right;\n",
       "    }\n",
       "</style>\n",
       "<table border=\"1\" class=\"dataframe\">\n",
       "  <thead>\n",
       "    <tr style=\"text-align: right;\">\n",
       "      <th></th>\n",
       "      <th>1</th>\n",
       "      <th>2</th>\n",
       "      <th>3</th>\n",
       "      <th>4</th>\n",
       "      <th>5</th>\n",
       "      <th>6</th>\n",
       "      <th>7</th>\n",
       "      <th>8</th>\n",
       "      <th>9</th>\n",
       "      <th>10</th>\n",
       "      <th>...</th>\n",
       "      <th>1673</th>\n",
       "      <th>1674</th>\n",
       "      <th>1675</th>\n",
       "      <th>1676</th>\n",
       "      <th>1677</th>\n",
       "      <th>1678</th>\n",
       "      <th>1679</th>\n",
       "      <th>1680</th>\n",
       "      <th>1681</th>\n",
       "      <th>1682</th>\n",
       "    </tr>\n",
       "  </thead>\n",
       "  <tbody>\n",
       "    <tr>\n",
       "      <th>0</th>\n",
       "      <td>0.0</td>\n",
       "      <td>0.0</td>\n",
       "      <td>0.0</td>\n",
       "      <td>0.0</td>\n",
       "      <td>0.0</td>\n",
       "      <td>0.0</td>\n",
       "      <td>0.0</td>\n",
       "      <td>0.0</td>\n",
       "      <td>0.0</td>\n",
       "      <td>0.0</td>\n",
       "      <td>...</td>\n",
       "      <td>0.0</td>\n",
       "      <td>0.0</td>\n",
       "      <td>0.0</td>\n",
       "      <td>0.0</td>\n",
       "      <td>0.0</td>\n",
       "      <td>0.0</td>\n",
       "      <td>0.0</td>\n",
       "      <td>0.0</td>\n",
       "      <td>0.0</td>\n",
       "      <td>0.0</td>\n",
       "    </tr>\n",
       "    <tr>\n",
       "      <th>1</th>\n",
       "      <td>0.0</td>\n",
       "      <td>0.0</td>\n",
       "      <td>1.0</td>\n",
       "      <td>0.0</td>\n",
       "      <td>0.0</td>\n",
       "      <td>1.0</td>\n",
       "      <td>0.0</td>\n",
       "      <td>0.0</td>\n",
       "      <td>1.0</td>\n",
       "      <td>0.0</td>\n",
       "      <td>...</td>\n",
       "      <td>0.0</td>\n",
       "      <td>0.0</td>\n",
       "      <td>0.0</td>\n",
       "      <td>0.0</td>\n",
       "      <td>0.0</td>\n",
       "      <td>0.0</td>\n",
       "      <td>0.0</td>\n",
       "      <td>0.0</td>\n",
       "      <td>0.0</td>\n",
       "      <td>0.0</td>\n",
       "    </tr>\n",
       "    <tr>\n",
       "      <th>2</th>\n",
       "      <td>1.0</td>\n",
       "      <td>0.0</td>\n",
       "      <td>0.0</td>\n",
       "      <td>0.0</td>\n",
       "      <td>0.0</td>\n",
       "      <td>0.0</td>\n",
       "      <td>0.0</td>\n",
       "      <td>0.0</td>\n",
       "      <td>0.0</td>\n",
       "      <td>1.0</td>\n",
       "      <td>...</td>\n",
       "      <td>0.0</td>\n",
       "      <td>0.0</td>\n",
       "      <td>0.0</td>\n",
       "      <td>0.0</td>\n",
       "      <td>0.0</td>\n",
       "      <td>0.0</td>\n",
       "      <td>0.0</td>\n",
       "      <td>0.0</td>\n",
       "      <td>0.0</td>\n",
       "      <td>0.0</td>\n",
       "    </tr>\n",
       "    <tr>\n",
       "      <th>3</th>\n",
       "      <td>0.0</td>\n",
       "      <td>0.0</td>\n",
       "      <td>0.0</td>\n",
       "      <td>0.0</td>\n",
       "      <td>0.0</td>\n",
       "      <td>0.0</td>\n",
       "      <td>0.0</td>\n",
       "      <td>0.0</td>\n",
       "      <td>0.0</td>\n",
       "      <td>0.0</td>\n",
       "      <td>...</td>\n",
       "      <td>0.0</td>\n",
       "      <td>0.0</td>\n",
       "      <td>0.0</td>\n",
       "      <td>0.0</td>\n",
       "      <td>0.0</td>\n",
       "      <td>0.0</td>\n",
       "      <td>0.0</td>\n",
       "      <td>0.0</td>\n",
       "      <td>0.0</td>\n",
       "      <td>0.0</td>\n",
       "    </tr>\n",
       "    <tr>\n",
       "      <th>4</th>\n",
       "      <td>0.0</td>\n",
       "      <td>0.0</td>\n",
       "      <td>0.0</td>\n",
       "      <td>0.0</td>\n",
       "      <td>0.0</td>\n",
       "      <td>0.0</td>\n",
       "      <td>0.0</td>\n",
       "      <td>0.0</td>\n",
       "      <td>0.0</td>\n",
       "      <td>0.0</td>\n",
       "      <td>...</td>\n",
       "      <td>0.0</td>\n",
       "      <td>0.0</td>\n",
       "      <td>0.0</td>\n",
       "      <td>0.0</td>\n",
       "      <td>0.0</td>\n",
       "      <td>0.0</td>\n",
       "      <td>0.0</td>\n",
       "      <td>0.0</td>\n",
       "      <td>0.0</td>\n",
       "      <td>0.0</td>\n",
       "    </tr>\n",
       "  </tbody>\n",
       "</table>\n",
       "<p>5 rows × 1682 columns</p>\n",
       "</div>"
      ],
      "text/plain": [
       "   1     2     3     4     5     6     7     8     9     10    ...  1673  \\\n",
       "0   0.0   0.0   0.0   0.0   0.0   0.0   0.0   0.0   0.0   0.0  ...   0.0   \n",
       "1   0.0   0.0   1.0   0.0   0.0   1.0   0.0   0.0   1.0   0.0  ...   0.0   \n",
       "2   1.0   0.0   0.0   0.0   0.0   0.0   0.0   0.0   0.0   1.0  ...   0.0   \n",
       "3   0.0   0.0   0.0   0.0   0.0   0.0   0.0   0.0   0.0   0.0  ...   0.0   \n",
       "4   0.0   0.0   0.0   0.0   0.0   0.0   0.0   0.0   0.0   0.0  ...   0.0   \n",
       "\n",
       "   1674  1675  1676  1677  1678  1679  1680  1681  1682  \n",
       "0   0.0   0.0   0.0   0.0   0.0   0.0   0.0   0.0   0.0  \n",
       "1   0.0   0.0   0.0   0.0   0.0   0.0   0.0   0.0   0.0  \n",
       "2   0.0   0.0   0.0   0.0   0.0   0.0   0.0   0.0   0.0  \n",
       "3   0.0   0.0   0.0   0.0   0.0   0.0   0.0   0.0   0.0  \n",
       "4   0.0   0.0   0.0   0.0   0.0   0.0   0.0   0.0   0.0  \n",
       "\n",
       "[5 rows x 1682 columns]"
      ]
     },
     "execution_count": 8,
     "metadata": {},
     "output_type": "execute_result"
    }
   ],
   "source": [
    "def matrix(train):\n",
    "    \n",
    "    users_number = len(data['user_id'].unique()) # количество уникальных пользователей\n",
    "    items_number = len(data['item_id'].unique()) # количество уникальных товаров\n",
    "\n",
    "    matrix = pd.DataFrame(np.zeros((users_number, items_number)), \n",
    "                            index = sorted(data['user_id'].unique()), \n",
    "                            columns = sorted(data['item_id'].unique()))\n",
    "\n",
    "\n",
    "    for i in train.index:\n",
    "        user = train['user_id'][i]\n",
    "        item = train['item_id'][i]\n",
    "        rating = train['rating'][i]\n",
    "        matrix[item][user] = 1\n",
    "    return matrix\n",
    "    \n",
    "users_matrix = matrix(train1)\n",
    "users_matrix.head()"
   ]
  },
  {
   "cell_type": "markdown",
   "metadata": {},
   "source": [
    "В итоге получилась таблица, где на пересечении id пользователя и продукта стоит 1, если пользователь оценил данный продукт, и 0 иначе (выставляются оценки только те, которые есть в обучающей выборке).\n",
    "\n",
    "Матрица на первый вгзгляд выглядит разреженной, чтобы это проверить, посмотрим на количество пропусков."
   ]
  },
  {
   "cell_type": "code",
   "execution_count": 9,
   "metadata": {},
   "outputs": [
    {
     "name": "stdout",
     "output_type": "stream",
     "text": [
      "Процент пропущенных данных равен 95.969286%\n"
     ]
    }
   ],
   "source": [
    "spaces = 0\n",
    "for i in users_matrix:\n",
    "    spaces += len(users_matrix[users_matrix[i] == 0.0])\n",
    "print('Процент пропущенных данных равен {:%}'.format(spaces/(len(data['user_id'].unique())*len(data['item_id'].unique()))))\n"
   ]
  },
  {
   "cell_type": "markdown",
   "metadata": {},
   "source": [
    "Присутствует около 5% данных, поэтому будет целесообразно использовать структуру данных **sparse table**"
   ]
  },
  {
   "cell_type": "code",
   "execution_count": 10,
   "metadata": {},
   "outputs": [
    {
     "data": {
      "text/plain": [
       "<944x1682 sparse matrix of type '<class 'numpy.float64'>'\n",
       "\twith 64000 stored elements in Compressed Sparse Row format>"
      ]
     },
     "execution_count": 10,
     "metadata": {},
     "output_type": "execute_result"
    }
   ],
   "source": [
    "# создание разреженной таблицы\n",
    "from scipy.sparse import csr_matrix\n",
    "\n",
    "users_matrix_sparse = csr_matrix(users_matrix.values)\n",
    "users_matrix_sparse"
   ]
  },
  {
   "cell_type": "markdown",
   "metadata": {},
   "source": [
    "## Описание использованной модели и гиперпараметров"
   ]
  },
  {
   "cell_type": "markdown",
   "metadata": {},
   "source": [
    "Существует множество моделей рекомендательных систем, однако наиболее приемлемыми для разреженных таблиц являются модели, основанные на матричной факторизации. SVD разложение не годится, так как оно плохо работает с разреженными таблицами. Разложение, которое используется в модели **LightFM**, выделяет латентные факторы пользователей и продуктов, что позволяет снизить размерность данных. Данная модель работает также с неявным рейтингом. Ниже представлено разложение матрицы:\n",
    "\n",
    "\n",
    "***Обозначения***:\n",
    "\n",
    "Мн. пользователей | Мн. продуктов | Пользователь | Продукт | Фактор пользователя | Фактор продукта | Характеристика пользователей | Характеристика продуктов\n",
    "--- | --- | --- |  --- | --- | --- | --- | ---\n",
    "$U$ | $I$ | $u$ | $i$ | $f_u$ | $f_i$ | $e_f^U$ | $e_f^I$\n",
    "\n",
    "\n",
    "Латентные признаки пользователя | Латентные признаки продукта | Член смещения пользователя | Член смещения продукта\n",
    "--- | --- | --- | ---\n",
    "$q_u = \\sum_{j \\in f_u}e_j^U$ | $p_i = \\sum_{j \\in f_i}e_j^I$ | $b_u = \\sum_{j \\in f_u}b_j^U$ | $b_u = \\sum_{j \\in f_u}b_j^I$\n",
    "\n",
    "\n",
    "Тогда предсказание для пользователя $u$ и продукта $i$ считается как *скалярное произведение латентных факторов* пользователя и продукта с добавлением члена смещения по продукту и пользователю (это нужно для L2 регуляризации, так как пользователи могут ставить оценки предвзято):\n",
    "\n",
    "$$\\hat{r_{ui}} = f(q_u\\cdot p_i + b_u + b_i)$$\n",
    "\n",
    "В качестве loss функции, которую мы будем минимизировать, я выбрала **WRAP**, так как она обычно дает наилучший результат. Минимизация будет происходит с помощью стохастического градиентного спуска.\n",
    "\n",
    "Количество факторов, которые будет выделять модель, как и другие **гиперпараметры**, найдем с помощью подбора. Для этого нужна функция расчета метрики `metric_function`, которую будем максимизировать. Функция `optimize_params` перебирает гиперпараметры из заданного диапазона и возвращает те, на которых модель выдала наилучший результат."
   ]
  },
  {
   "cell_type": "markdown",
   "metadata": {},
   "source": [
    "### Расчет метрики"
   ]
  },
  {
   "cell_type": "code",
   "execution_count": 11,
   "metadata": {},
   "outputs": [],
   "source": [
    "def average_precision(actual, recommended, k=30):\n",
    "    ap_sum = 0\n",
    "    hits = 0\n",
    "    for i in range(k):\n",
    "        product_id = recommended[i] if i < len(recommended) else None\n",
    "        if product_id is not None and product_id in actual:\n",
    "            hits += 1\n",
    "            ap_sum += hits / (i + 1)\n",
    "    return ap_sum / k\n",
    "\n",
    "\n",
    "def normalized_average_precision(actual, recommended, k=30):\n",
    "    actual = set(actual)\n",
    "    if len(actual) == 0:\n",
    "        return 0.0\n",
    "\n",
    "    ap = average_precision(actual, recommended, k=k)\n",
    "    ap_ideal = average_precision(actual, list(actual)[:k], k=k)\n",
    "    return ap / ap_ideal"
   ]
  },
  {
   "cell_type": "markdown",
   "metadata": {},
   "source": [
    "### Функция создания рекомендаций"
   ]
  },
  {
   "cell_type": "code",
   "execution_count": 12,
   "metadata": {},
   "outputs": [],
   "source": [
    "def recommend(user, model, data = users_matrix, number_of_recommendations = 30):\n",
    "    \n",
    "    # вычисляем скалярное произведение получившихся факторов\n",
    "    predictions = pd.Series(model.predict(int(user), np.arange(data.shape[1])), index = data.columns)\n",
    "    data_transpose = np.transpose(data)\n",
    "    \n",
    "    # отдельно выносим те продукты, которые есть в тренировочной выборке\n",
    "    contained_items = list(data_transpose.loc[data_transpose.loc[:, user] != 0].index)\n",
    "    \n",
    "    # сортируем скалярные произведения, тогда на 1-м месте для пользователя u будет находиться продукт, \n",
    "    # который подходит ему больше всего\n",
    "    recommended = list(predictions.sort_values(ascending = False).index)\n",
    "    \n",
    "    # определяем индексы предсказанных продуктов, убирая из них те, что есть в тренировочной выборке\n",
    "    recommended = [r for r in recommended if r not in contained_items][:number_of_recommendations]\n",
    "    \n",
    "    return recommended"
   ]
  },
  {
   "cell_type": "markdown",
   "metadata": {},
   "source": [
    "### Вычисление метрики"
   ]
  },
  {
   "cell_type": "code",
   "execution_count": 13,
   "metadata": {},
   "outputs": [],
   "source": [
    "def metric_function(model, test):\n",
    "    scores = []\n",
    "    for user in test['user_id'].unique():\n",
    "        actual = list(test[test['user_id'] == user]['item_id'])\n",
    "        recommended = recommend(user, model)\n",
    "    \n",
    "        scores.append(normalized_average_precision(actual, recommended))\n",
    "\n",
    "    return np.mean(scores)"
   ]
  },
  {
   "cell_type": "markdown",
   "metadata": {},
   "source": [
    "### Функция для подбора гиперпараметров"
   ]
  },
  {
   "cell_type": "code",
   "execution_count": 14,
   "metadata": {},
   "outputs": [
    {
     "name": "stderr",
     "output_type": "stream",
     "text": [
      "/Users/alexandrasorokovikova/opt/anaconda3/lib/python3.7/site-packages/lightfm/_lightfm_fast.py:10: UserWarning: LightFM was compiled without OpenMP support. Only a single thread will be used.\n",
      "  \"LightFM was compiled without OpenMP support. \"\n"
     ]
    }
   ],
   "source": [
    "from lightfm import LightFM\n",
    "\n",
    "def optimize_params(metric_function, params, train = users_matrix_sparse, test = validation):\n",
    "    \n",
    "    # диапазон гиперпараметров\n",
    "    learning_rate_range, no_components_range, alpha_range = params\n",
    "\n",
    "    optimal_metric = 0\n",
    "    optimal_params = {'learning_rate' : 0,\n",
    "                      'no_components' : 0,\n",
    "                      'alpha' : 0}\n",
    "    \n",
    "    for learning_rate in learning_rate_range:\n",
    "        for no_components in no_components_range:\n",
    "            for alpha in alpha_range:\n",
    "                    \n",
    "                # создаем модель\n",
    "                model = LightFM(loss='warp',\n",
    "                                no_components=no_components,\n",
    "                                random_state=1234,\n",
    "                                learning_rate=learning_rate,\n",
    "                                user_alpha=alpha)\n",
    "                # тренируем модель\n",
    "                model.fit(train,\n",
    "                          epochs=10,\n",
    "                          num_threads=16)\n",
    "                \n",
    "                # считаем метрику на текущих гиперпараметрах\n",
    "                new_metric = metric_function(model, test)\n",
    "                    \n",
    "                # если текущая метрика лучше, чем текущая наибольшая метрика, то обновляем словарь гиперпараметров\n",
    "                if new_metric > optimal_metric:\n",
    "                    optimal_metric = new_metric\n",
    "                    optimal_params['learning_rate'] = learning_rate\n",
    "                    optimal_params['no_components'] = no_components\n",
    "                    optimal_params['alpha'] = alpha\n",
    "    return optimal_params\n"
   ]
  },
  {
   "cell_type": "markdown",
   "metadata": {},
   "source": [
    "### Находим наиболее подходящие гиперпараметры"
   ]
  },
  {
   "cell_type": "code",
   "execution_count": 15,
   "metadata": {},
   "outputs": [
    {
     "data": {
      "text/plain": [
       "{'learning_rate': 0.0001, 'no_components': 63, 'alpha': 1e-06}"
      ]
     },
     "execution_count": 15,
     "metadata": {},
     "output_type": "execute_result"
    }
   ],
   "source": [
    "# диапазон гиперпараметров\n",
    "params = [np.arange(10**-4, 10**-1, 0.1),  # learning_rate\n",
    "          np.arange(5, 100),               # no_components\n",
    "          np.arange(10**-6, 10**-2, 0.01)] # alpha\n",
    "\n",
    "optimal_params = optimize_params(metric_function, params)\n",
    "optimal_params"
   ]
  },
  {
   "cell_type": "markdown",
   "metadata": {},
   "source": [
    "### Итоговое тестирование"
   ]
  },
  {
   "cell_type": "markdown",
   "metadata": {},
   "source": [
    "Теперь можно обучить модель с найденными гиперпараметрами на первоначальной тренировочной выборке."
   ]
  },
  {
   "cell_type": "code",
   "execution_count": 16,
   "metadata": {},
   "outputs": [
    {
     "data": {
      "text/plain": [
       "<944x1682 sparse matrix of type '<class 'numpy.float64'>'\n",
       "\twith 80000 stored elements in Compressed Sparse Row format>"
      ]
     },
     "execution_count": 16,
     "metadata": {},
     "output_type": "execute_result"
    }
   ],
   "source": [
    "# итоговая тренировочная выборка \n",
    "users_matrix_final = matrix(train)\n",
    "users_matrix_final_sparse = csr_matrix(users_matrix_final.values)\n",
    "users_matrix_final_sparse"
   ]
  },
  {
   "cell_type": "code",
   "execution_count": 23,
   "metadata": {},
   "outputs": [
    {
     "data": {
      "text/plain": [
       "<lightfm.lightfm.LightFM at 0x7fe87164c690>"
      ]
     },
     "execution_count": 23,
     "metadata": {},
     "output_type": "execute_result"
    }
   ],
   "source": [
    "# создаем модель с найденными гиперпараметрами\n",
    "model = LightFM(loss='warp',\n",
    "                no_components=optimal_params['no_components'],\n",
    "                random_state=1234,\n",
    "                learning_rate=optimal_params['learning_rate'],\n",
    "                user_alpha=optimal_params['alpha'])\n",
    "\n",
    "# обучаем модель\n",
    "model.fit(users_matrix_final_sparse,\n",
    "                  epochs=10,\n",
    "                  num_threads=16)"
   ]
  },
  {
   "cell_type": "markdown",
   "metadata": {},
   "source": [
    "## Метрика на тестовых данных:"
   ]
  },
  {
   "cell_type": "code",
   "execution_count": 24,
   "metadata": {},
   "outputs": [
    {
     "name": "stderr",
     "output_type": "stream",
     "text": [
      "100%|██████████| 301/301 [00:01<00:00, 293.70it/s]\n"
     ]
    },
    {
     "data": {
      "text/plain": [
       "0.1650523762615745"
      ]
     },
     "execution_count": 24,
     "metadata": {},
     "output_type": "execute_result"
    }
   ],
   "source": [
    "scores = []\n",
    "for user in tqdm(test['user_id'].unique()):\n",
    "    actual = list(test[test['user_id'] == user]['item_id'])\n",
    "    recommended = recommend(user, model)\n",
    "    \n",
    "    scores.append(normalized_average_precision(actual, recommended))\n",
    "\n",
    "np.mean(scores)"
   ]
  },
  {
   "cell_type": "code",
   "execution_count": null,
   "metadata": {},
   "outputs": [],
   "source": []
  }
 ],
 "metadata": {
  "kernelspec": {
   "display_name": "Python 3",
   "language": "python",
   "name": "python3"
  },
  "language_info": {
   "codemirror_mode": {
    "name": "ipython",
    "version": 3
   },
   "file_extension": ".py",
   "mimetype": "text/x-python",
   "name": "python",
   "nbconvert_exporter": "python",
   "pygments_lexer": "ipython3",
   "version": "3.7.6"
  }
 },
 "nbformat": 4,
 "nbformat_minor": 4
}
